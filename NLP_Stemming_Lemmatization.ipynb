{
 "cells": [
  {
   "cell_type": "code",
   "execution_count": 1,
   "id": "ccfe33b2",
   "metadata": {},
   "outputs": [],
   "source": [
    "import nltk\n",
    "import spacy\n",
    "from nltk.stem import PorterStemmer\n",
    "stemmer=PorterStemmer()"
   ]
  },
  {
   "cell_type": "code",
   "execution_count": 2,
   "id": "f7b32766",
   "metadata": {},
   "outputs": [],
   "source": [
    "nlp=spacy.load(\"en_core_web_sm\")"
   ]
  },
  {
   "cell_type": "code",
   "execution_count": 3,
   "id": "e6543e9b",
   "metadata": {},
   "outputs": [],
   "source": [
    "#using stemming in nltk"
   ]
  },
  {
   "cell_type": "code",
   "execution_count": 4,
   "id": "61a390d0",
   "metadata": {},
   "outputs": [],
   "source": [
    "lst_words = ['running', 'painting', 'walking', 'dressing', 'likely', 'children', 'whom', 'good', 'ate', 'fishing']"
   ]
  },
  {
   "cell_type": "code",
   "execution_count": 5,
   "id": "e153ea2c",
   "metadata": {},
   "outputs": [
    {
     "name": "stdout",
     "output_type": "stream",
     "text": [
      "running | run\n",
      "painting | paint\n",
      "walking | walk\n",
      "dressing | dress\n",
      "likely | like\n",
      "children | children\n",
      "whom | whom\n",
      "good | good\n",
      "ate | ate\n",
      "fishing | fish\n"
     ]
    }
   ],
   "source": [
    "for token in lst_words:\n",
    "    print(token,\"|\",stemmer.stem(token))"
   ]
  },
  {
   "cell_type": "code",
   "execution_count": 6,
   "id": "9fe3f4f4",
   "metadata": {},
   "outputs": [],
   "source": [
    "#using lemmatization in spacy"
   ]
  },
  {
   "cell_type": "code",
   "execution_count": 7,
   "id": "d666996e",
   "metadata": {},
   "outputs": [],
   "source": [
    "doc = nlp(\"running painting walking dressing likely children who good ate fishing\")"
   ]
  },
  {
   "cell_type": "code",
   "execution_count": 8,
   "id": "bb3ae1a8",
   "metadata": {},
   "outputs": [
    {
     "name": "stdout",
     "output_type": "stream",
     "text": [
      "running | run\n",
      "painting | paint\n",
      "walking | walk\n",
      "dressing | dress\n",
      "likely | likely\n",
      "children | child\n",
      "who | who\n",
      "good | good\n",
      "ate | eat\n",
      "fishing | fishing\n"
     ]
    }
   ],
   "source": [
    "for token in doc:\n",
    "    print(token,\"|\",token.lemma_)"
   ]
  },
  {
   "cell_type": "code",
   "execution_count": 9,
   "id": "c1af1961",
   "metadata": {},
   "outputs": [],
   "source": [
    "text = \"\"\"Latha is very multi talented girl.She is good at many skills like dancing, running, singing, playing.She also likes eating Pav Bhagi. she has a \n",
    "habit of fishing and swimming too.Besides all this, she is a wonderful at cooking too.\n",
    "\"\"\""
   ]
  },
  {
   "cell_type": "code",
   "execution_count": null,
   "id": "775cd7dd",
   "metadata": {},
   "outputs": [],
   "source": [
    "#using stemming in nltk"
   ]
  },
  {
   "cell_type": "code",
   "execution_count": 10,
   "id": "b74787ef",
   "metadata": {},
   "outputs": [],
   "source": [
    "word_tokens=nltk.word_tokenize(text)"
   ]
  },
  {
   "cell_type": "code",
   "execution_count": 11,
   "id": "22e2ef82",
   "metadata": {
    "scrolled": false
   },
   "outputs": [
    {
     "name": "stdout",
     "output_type": "stream",
     "text": [
      "Latha | latha\n",
      "is | is\n",
      "very | veri\n",
      "multi | multi\n",
      "talented | talent\n",
      "girl.She | girl.sh\n",
      "is | is\n",
      "good | good\n",
      "at | at\n",
      "many | mani\n",
      "skills | skill\n",
      "like | like\n",
      "dancing | danc\n",
      ", | ,\n",
      "running | run\n",
      ", | ,\n",
      "singing | sing\n",
      ", | ,\n",
      "playing.She | playing.sh\n",
      "also | also\n",
      "likes | like\n",
      "eating | eat\n",
      "Pav | pav\n",
      "Bhagi | bhagi\n",
      ". | .\n",
      "she | she\n",
      "has | ha\n",
      "a | a\n",
      "habit | habit\n",
      "of | of\n",
      "fishing | fish\n",
      "and | and\n",
      "swimming | swim\n",
      "too.Besides | too.besid\n",
      "all | all\n",
      "this | thi\n",
      ", | ,\n",
      "she | she\n",
      "is | is\n",
      "a | a\n",
      "wonderful | wonder\n",
      "at | at\n",
      "cooking | cook\n",
      "too | too\n",
      ". | .\n"
     ]
    }
   ],
   "source": [
    "list1=[]\n",
    "for token in word_tokens:\n",
    "    print(token,\"|\",stemmer.stem(token))\n",
    "    list1.append(stemmer.stem(token))"
   ]
  },
  {
   "cell_type": "code",
   "execution_count": 12,
   "id": "e8bb31fc",
   "metadata": {},
   "outputs": [
    {
     "data": {
      "text/plain": [
       "'latha is veri multi talent girl.sh is good at mani skill like danc , run , sing , playing.sh also like eat pav bhagi . she ha a habit of fish and swim too.besid all thi , she is a wonder at cook too .'"
      ]
     },
     "execution_count": 12,
     "metadata": {},
     "output_type": "execute_result"
    }
   ],
   "source": [
    "all_words1=\" \".join(list1)\n",
    "all_words1"
   ]
  },
  {
   "cell_type": "code",
   "execution_count": null,
   "id": "94fa61e7",
   "metadata": {},
   "outputs": [],
   "source": [
    "#using lemmatization in spacy"
   ]
  },
  {
   "cell_type": "code",
   "execution_count": 13,
   "id": "962a603f",
   "metadata": {},
   "outputs": [],
   "source": [
    "doc2=nlp(text)"
   ]
  },
  {
   "cell_type": "code",
   "execution_count": 14,
   "id": "ac7bd482",
   "metadata": {
    "scrolled": false
   },
   "outputs": [
    {
     "name": "stdout",
     "output_type": "stream",
     "text": [
      "Latha | Latha\n",
      "is | be\n",
      "very | very\n",
      "multi | multi\n",
      "talented | talented\n",
      "girl | girl\n",
      ". | .\n",
      "She | she\n",
      "is | be\n",
      "good | good\n",
      "at | at\n",
      "many | many\n",
      "skills | skill\n",
      "like | like\n",
      "dancing | dancing\n",
      ", | ,\n",
      "running | running\n",
      ", | ,\n",
      "singing | singing\n",
      ", | ,\n",
      "playing | play\n",
      ". | .\n",
      "She | she\n",
      "also | also\n",
      "likes | like\n",
      "eating | eat\n",
      "Pav | Pav\n",
      "Bhagi | Bhagi\n",
      ". | .\n",
      "she | she\n",
      "has | have\n",
      "a | a\n",
      "\n",
      " | \n",
      "\n",
      "habit | habit\n",
      "of | of\n",
      "fishing | fishing\n",
      "and | and\n",
      "swimming | swim\n",
      "too | too\n",
      ". | .\n",
      "Besides | besides\n",
      "all | all\n",
      "this | this\n",
      ", | ,\n",
      "she | she\n",
      "is | be\n",
      "a | a\n",
      "wonderful | wonderful\n",
      "at | at\n",
      "cooking | cook\n",
      "too | too\n",
      ". | .\n",
      "\n",
      " | \n",
      "\n"
     ]
    }
   ],
   "source": [
    "list2=[]\n",
    "for token in doc2:\n",
    "    print(token,\"|\",token.lemma_)\n",
    "    list2.append(token.lemma_)"
   ]
  },
  {
   "cell_type": "code",
   "execution_count": 15,
   "id": "6d9513f1",
   "metadata": {},
   "outputs": [
    {
     "data": {
      "text/plain": [
       "'Latha be very multi talented girl . she be good at many skill like dancing , running , singing , play . she also like eat Pav Bhagi . she have a \\n habit of fishing and swim too . besides all this , she be a wonderful at cook too . \\n'"
      ]
     },
     "execution_count": 15,
     "metadata": {},
     "output_type": "execute_result"
    }
   ],
   "source": [
    "all_words2=\" \".join(list2)\n",
    "all_words2"
   ]
  }
 ],
 "metadata": {
  "kernelspec": {
   "display_name": "Python 3 (ipykernel)",
   "language": "python",
   "name": "python3"
  },
  "language_info": {
   "codemirror_mode": {
    "name": "ipython",
    "version": 3
   },
   "file_extension": ".py",
   "mimetype": "text/x-python",
   "name": "python",
   "nbconvert_exporter": "python",
   "pygments_lexer": "ipython3",
   "version": "3.11.4"
  }
 },
 "nbformat": 4,
 "nbformat_minor": 5
}
