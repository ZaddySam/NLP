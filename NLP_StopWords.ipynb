{
 "cells": [
  {
   "cell_type": "code",
   "execution_count": 1,
   "id": "4e269a4b",
   "metadata": {},
   "outputs": [],
   "source": [
    "import spacy\n",
    "nlp=spacy.load(\"en_core_web_sm\")"
   ]
  },
  {
   "cell_type": "code",
   "execution_count": 2,
   "id": "efe1185b",
   "metadata": {},
   "outputs": [],
   "source": [
    "text = '''\n",
    "Thor: Love and Thunder is a 2022 American superhero film based on Marvel Comics featuring the character Thor, produced by Marvel Studios and \n",
    "distributed by Walt Disney Studios Motion Pictures. It is the sequel to Thor: Ragnarok (2017) and the 29th film in the Marvel Cinematic Universe (MCU).\n",
    "The film is directed by Taika Waititi, who co-wrote the script with Jennifer Kaytin Robinson, and stars Chris Hemsworth as Thor alongside Christian Bale, Tessa Thompson,\n",
    "Jaimie Alexander, Waititi, Russell Crowe, and Natalie Portman. In the film, Thor attempts to find inner peace, but must return to action and recruit Valkyrie (Thompson),\n",
    "Korg (Waititi), and Jane Foster (Portman)—who is now the Mighty Thor—to stop Gorr the God Butcher (Bale) from eliminating all gods.\n",
    "'''"
   ]
  },
  {
   "cell_type": "code",
   "execution_count": 3,
   "id": "a14ef6e4",
   "metadata": {},
   "outputs": [],
   "source": [
    "doc=nlp(text)"
   ]
  },
  {
   "cell_type": "code",
   "execution_count": 4,
   "id": "c2b05e62",
   "metadata": {},
   "outputs": [
    {
     "data": {
      "text/plain": [
       "326"
      ]
     },
     "execution_count": 4,
     "metadata": {},
     "output_type": "execute_result"
    }
   ],
   "source": [
    "from spacy.lang.en.stop_words import STOP_WORDS\n",
    "len(STOP_WORDS)"
   ]
  },
  {
   "cell_type": "code",
   "execution_count": 5,
   "id": "6b217d4c",
   "metadata": {},
   "outputs": [
    {
     "name": "stdout",
     "output_type": "stream",
     "text": [
      "\n",
      "\n",
      "Thor\n",
      ":\n",
      "Love\n",
      "Thunder\n",
      "2022\n",
      "American\n",
      "superhero\n",
      "film\n",
      "based\n",
      "Marvel\n",
      "Comics\n",
      "featuring\n",
      "character\n",
      "Thor\n",
      ",\n",
      "produced\n",
      "Marvel\n",
      "Studios\n",
      "\n",
      "\n",
      "distributed\n",
      "Walt\n",
      "Disney\n",
      "Studios\n",
      "Motion\n",
      "Pictures\n",
      ".\n",
      "sequel\n",
      "Thor\n",
      ":\n",
      "Ragnarok\n",
      "(\n",
      "2017\n",
      ")\n",
      "29th\n",
      "film\n",
      "Marvel\n",
      "Cinematic\n",
      "Universe\n",
      "(\n",
      "MCU\n",
      ")\n",
      ".\n",
      "\n",
      "\n",
      "film\n",
      "directed\n",
      "Taika\n",
      "Waititi\n",
      ",\n",
      "co\n",
      "-\n",
      "wrote\n",
      "script\n",
      "Jennifer\n",
      "Kaytin\n",
      "Robinson\n",
      ",\n",
      "stars\n",
      "Chris\n",
      "Hemsworth\n",
      "Thor\n",
      "alongside\n",
      "Christian\n",
      "Bale\n",
      ",\n",
      "Tessa\n",
      "Thompson\n",
      ",\n",
      "\n",
      "\n",
      "Jaimie\n",
      "Alexander\n",
      ",\n",
      "Waititi\n",
      ",\n",
      "Russell\n",
      "Crowe\n",
      ",\n",
      "Natalie\n",
      "Portman\n",
      ".\n",
      "film\n",
      ",\n",
      "Thor\n",
      "attempts\n",
      "find\n",
      "inner\n",
      "peace\n",
      ",\n",
      "return\n",
      "action\n",
      "recruit\n",
      "Valkyrie\n",
      "(\n",
      "Thompson\n",
      ")\n",
      ",\n",
      "\n",
      "\n",
      "Korg\n",
      "(\n",
      "Waititi\n",
      ")\n",
      ",\n",
      "Jane\n",
      "Foster\n",
      "(\n",
      "Portman)—who\n",
      "Mighty\n",
      "Thor\n",
      "—\n",
      "stop\n",
      "Gorr\n",
      "God\n",
      "Butcher\n",
      "(\n",
      "Bale\n",
      ")\n",
      "eliminating\n",
      "gods\n",
      ".\n",
      "\n",
      "\n"
     ]
    }
   ],
   "source": [
    "for token in doc:\n",
    "    if not token.is_stop:\n",
    "        print(token)"
   ]
  },
  {
   "cell_type": "code",
   "execution_count": 6,
   "id": "a5ac2ad6",
   "metadata": {},
   "outputs": [],
   "source": [
    "def preprocess(text):\n",
    "    doc=nlp(text)\n",
    "    tokens=[token.text for token in doc if not token.is_stop]\n",
    "    return \" \".join(tokens)"
   ]
  },
  {
   "cell_type": "code",
   "execution_count": 7,
   "id": "4111ebca",
   "metadata": {},
   "outputs": [
    {
     "data": {
      "text/plain": [
       "'god , mere human'"
      ]
     },
     "execution_count": 7,
     "metadata": {},
     "output_type": "execute_result"
    }
   ],
   "source": [
    "preprocess(\"you aren't a god, you are just a mere human\")"
   ]
  },
  {
   "cell_type": "code",
   "execution_count": 8,
   "id": "d1e50768",
   "metadata": {},
   "outputs": [],
   "source": [
    "nlp.vocab[\"not\"].is_stop=False"
   ]
  },
  {
   "cell_type": "code",
   "execution_count": 9,
   "id": "533cef18",
   "metadata": {},
   "outputs": [
    {
     "name": "stdout",
     "output_type": "stream",
     "text": [
      "text1:good movie\n",
      "text1:not good movie\n"
     ]
    }
   ],
   "source": [
    "positive_text=preprocess(\"this is a good movie\")\n",
    "negative_text=preprocess(\"this is not a good movie\")\n",
    "print(f\"text1:{positive_text}\")\n",
    "print(f\"text1:{negative_text}\")"
   ]
  },
  {
   "cell_type": "code",
   "execution_count": 37,
   "id": "0a831610",
   "metadata": {},
   "outputs": [],
   "source": [
    "text = ''' The India men's national cricket team, also known as Team India or the Men in Blue, represents India in men's international cricket.\n",
    "It is governed by the Board of Control for Cricket in India (BCCI), and is a Full Member of the International Cricket Council (ICC) with Test,\n",
    "One Day International (ODI) and Twenty20 International (T20I) status. Cricket was introduced to India by British sailors in the 18th century, and the \n",
    "first cricket club was established in 1792. India's national cricket team played its first Test match on 25 June 1932 at Lord's, becoming the sixth team to be\n",
    "granted test cricket status.\n",
    "'''"
   ]
  },
  {
   "cell_type": "code",
   "execution_count": 44,
   "id": "2917a5ec",
   "metadata": {},
   "outputs": [],
   "source": [
    "doc=nlp(text)"
   ]
  },
  {
   "cell_type": "code",
   "execution_count": 51,
   "id": "0b990f13",
   "metadata": {},
   "outputs": [],
   "source": [
    "preprocessed_text=[token.text for token in doc if not token.is_stop and not token.is_punct]"
   ]
  },
  {
   "cell_type": "code",
   "execution_count": 52,
   "id": "aec85478",
   "metadata": {
    "scrolled": true
   },
   "outputs": [
    {
     "data": {
      "text/plain": [
       "['India',\n",
       " 'men',\n",
       " 'national',\n",
       " 'cricket',\n",
       " 'team',\n",
       " 'known',\n",
       " 'Team',\n",
       " 'India',\n",
       " 'Men',\n",
       " 'Blue',\n",
       " 'represents',\n",
       " 'India',\n",
       " 'men',\n",
       " 'international',\n",
       " 'cricket',\n",
       " 'governed',\n",
       " 'Board',\n",
       " 'Control',\n",
       " 'Cricket',\n",
       " 'India',\n",
       " 'BCCI',\n",
       " 'Member',\n",
       " 'International',\n",
       " 'Cricket',\n",
       " 'Council',\n",
       " 'ICC',\n",
       " 'Test',\n",
       " 'Day',\n",
       " 'International',\n",
       " 'ODI',\n",
       " 'Twenty20',\n",
       " 'International',\n",
       " 'T20I',\n",
       " 'status',\n",
       " 'Cricket',\n",
       " 'introduced',\n",
       " 'India',\n",
       " 'British',\n",
       " 'sailors',\n",
       " '18th',\n",
       " 'century',\n",
       " 'cricket',\n",
       " 'club',\n",
       " 'established',\n",
       " '1792',\n",
       " 'India',\n",
       " 'national',\n",
       " 'cricket',\n",
       " 'team',\n",
       " 'played',\n",
       " 'Test',\n",
       " 'match',\n",
       " '25',\n",
       " 'June',\n",
       " '1932',\n",
       " 'Lord',\n",
       " 'sixth',\n",
       " 'team',\n",
       " 'granted',\n",
       " 'test',\n",
       " 'cricket',\n",
       " 'status']"
      ]
     },
     "execution_count": 52,
     "metadata": {},
     "output_type": "execute_result"
    }
   ],
   "source": [
    "preprocessed_text"
   ]
  },
  {
   "cell_type": "code",
   "execution_count": 55,
   "id": "d04509cf",
   "metadata": {},
   "outputs": [],
   "source": [
    "nlp.vocab[\" \"].is_stop=True"
   ]
  },
  {
   "cell_type": "code",
   "execution_count": 56,
   "id": "fce222b3",
   "metadata": {},
   "outputs": [],
   "source": [
    "nlp.vocab[\"\\n\"].is_stop=True"
   ]
  },
  {
   "cell_type": "code",
   "execution_count": 57,
   "id": "e87f798c",
   "metadata": {},
   "outputs": [],
   "source": [
    "count={}\n",
    "for token in preprocessed_text:\n",
    "    if token not in count:\n",
    "        count[token]=1\n",
    "    else:\n",
    "        count[token]+=1"
   ]
  },
  {
   "cell_type": "code",
   "execution_count": 62,
   "id": "bc1cdd65",
   "metadata": {},
   "outputs": [
    {
     "data": {
      "text/plain": [
       "{'India': 6,\n",
       " 'men': 2,\n",
       " 'national': 2,\n",
       " 'cricket': 5,\n",
       " 'team': 3,\n",
       " 'known': 1,\n",
       " 'Team': 1,\n",
       " 'Men': 1,\n",
       " 'Blue': 1,\n",
       " 'represents': 1,\n",
       " 'international': 1,\n",
       " 'governed': 1,\n",
       " 'Board': 1,\n",
       " 'Control': 1,\n",
       " 'Cricket': 3,\n",
       " 'BCCI': 1,\n",
       " 'Member': 1,\n",
       " 'International': 3,\n",
       " 'Council': 1,\n",
       " 'ICC': 1,\n",
       " 'Test': 2,\n",
       " 'Day': 1,\n",
       " 'ODI': 1,\n",
       " 'Twenty20': 1,\n",
       " 'T20I': 1,\n",
       " 'status': 2,\n",
       " 'introduced': 1,\n",
       " 'British': 1,\n",
       " 'sailors': 1,\n",
       " '18th': 1,\n",
       " 'century': 1,\n",
       " 'club': 1,\n",
       " 'established': 1,\n",
       " '1792': 1,\n",
       " 'played': 1,\n",
       " 'match': 1,\n",
       " '25': 1,\n",
       " 'June': 1,\n",
       " '1932': 1,\n",
       " 'Lord': 1,\n",
       " 'sixth': 1,\n",
       " 'granted': 1,\n",
       " 'test': 1}"
      ]
     },
     "execution_count": 62,
     "metadata": {},
     "output_type": "execute_result"
    }
   ],
   "source": [
    "count"
   ]
  },
  {
   "cell_type": "code",
   "execution_count": 64,
   "id": "c00fd4b4",
   "metadata": {},
   "outputs": [
    {
     "data": {
      "text/plain": [
       "'India'"
      ]
     },
     "execution_count": 64,
     "metadata": {},
     "output_type": "execute_result"
    }
   ],
   "source": [
    "max_count=max(count.keys(),key=(lambda key: count[key]))\n",
    "max_count"
   ]
  }
 ],
 "metadata": {
  "kernelspec": {
   "display_name": "Python 3 (ipykernel)",
   "language": "python",
   "name": "python3"
  },
  "language_info": {
   "codemirror_mode": {
    "name": "ipython",
    "version": 3
   },
   "file_extension": ".py",
   "mimetype": "text/x-python",
   "name": "python",
   "nbconvert_exporter": "python",
   "pygments_lexer": "ipython3",
   "version": "3.11.4"
  }
 },
 "nbformat": 4,
 "nbformat_minor": 5
}
