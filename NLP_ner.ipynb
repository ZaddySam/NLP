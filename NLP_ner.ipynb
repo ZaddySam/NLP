{
 "cells": [
  {
   "cell_type": "markdown",
   "id": "3e0e940c",
   "metadata": {},
   "source": [
    "# NATURAL LANGUAGE PROCESSING\n",
    "\n",
    "## EXTRACTING GEOGRAPHICAL LOCATIONS AND DATES"
   ]
  },
  {
   "cell_type": "code",
   "execution_count": 1,
   "id": "4dbc9a5e",
   "metadata": {},
   "outputs": [],
   "source": [
    "import spacy\n",
    "nlp=spacy.load(\"en_core_web_sm\")"
   ]
  },
  {
   "cell_type": "code",
   "execution_count": 14,
   "id": "1a146764",
   "metadata": {},
   "outputs": [],
   "source": [
    "# extracting geographical locations"
   ]
  },
  {
   "cell_type": "code",
   "execution_count": 2,
   "id": "acc88ee4",
   "metadata": {},
   "outputs": [],
   "source": [
    "text = \"\"\"Kiran want to know the famous foods in each state of India. So, he opened Google and search for this question. Google showed that\n",
    "in Delhi it is Chaat, in Gujarat it is Dal Dhokli, in Tamilnadu it is Pongal, in Andhrapradesh it is Biryani, in Assam it is Papaya Khar,\n",
    "in Bihar it is Litti Chowkha and so on for all other states\"\"\""
   ]
  },
  {
   "cell_type": "code",
   "execution_count": 3,
   "id": "4f3a97cf",
   "metadata": {},
   "outputs": [],
   "source": [
    "doc=nlp(text)"
   ]
  },
  {
   "cell_type": "code",
   "execution_count": 9,
   "id": "1261edbf",
   "metadata": {},
   "outputs": [
    {
     "name": "stdout",
     "output_type": "stream",
     "text": [
      "Geographical location Names: [India, Delhi, Gujarat, Tamilnadu, Pongal, Andhrapradesh, Assam, Bihar] \n",
      "count: 8\n"
     ]
    }
   ],
   "source": [
    "geographical=[]\n",
    "count=0\n",
    "for ent in doc.ents:\n",
    "    if ent.label_==\"GPE\":\n",
    "        geographical.append(ent)\n",
    "        count+=1\n",
    "print(\"Geographical location Names:\",geographical,\"\\ncount:\",count)"
   ]
  },
  {
   "cell_type": "code",
   "execution_count": null,
   "id": "e5e99a93",
   "metadata": {},
   "outputs": [],
   "source": [
    "# extracting dates"
   ]
  },
  {
   "cell_type": "code",
   "execution_count": 10,
   "id": "b911c975",
   "metadata": {},
   "outputs": [],
   "source": [
    "text = \"\"\"Sachin Tendulkar was born on 24 April 1973, Virat Kholi was born on 5 November 1988, Dhoni was born on 7 July 1981\n",
    "and finally Ricky ponting was born on 19 December 1974.\"\"\"\n",
    "\n",
    "doc = nlp(text)"
   ]
  },
  {
   "cell_type": "code",
   "execution_count": 13,
   "id": "8d764709",
   "metadata": {},
   "outputs": [
    {
     "name": "stdout",
     "output_type": "stream",
     "text": [
      "dates: [24 April 1973, 5 November 1988, 7 July 1981, 19 December 1974] \n",
      "count: 4\n"
     ]
    }
   ],
   "source": [
    "dates=[]\n",
    "count=0\n",
    "for ent in doc.ents:\n",
    "    if ent.label_==\"DATE\":\n",
    "        dates.append(ent)\n",
    "        count+=1\n",
    "print(\"dates:\",dates,\"\\ncount:\",count)"
   ]
  }
 ],
 "metadata": {
  "kernelspec": {
   "display_name": "Python 3 (ipykernel)",
   "language": "python",
   "name": "python3"
  },
  "language_info": {
   "codemirror_mode": {
    "name": "ipython",
    "version": 3
   },
   "file_extension": ".py",
   "mimetype": "text/x-python",
   "name": "python",
   "nbconvert_exporter": "python",
   "pygments_lexer": "ipython3",
   "version": "3.11.4"
  }
 },
 "nbformat": 4,
 "nbformat_minor": 5
}
