{
 "cells": [
  {
   "cell_type": "markdown",
   "id": "b78a892b",
   "metadata": {},
   "source": [
    "# NATURAL LANGUAGE PROCESSING\n",
    "\n",
    "\n",
    "# REGULAR EXPRESSIONS"
   ]
  },
  {
   "cell_type": "code",
   "execution_count": 1,
   "id": "8ff9b9c5",
   "metadata": {},
   "outputs": [],
   "source": [
    "import re"
   ]
  },
  {
   "cell_type": "markdown",
   "id": "85145ec1",
   "metadata": {},
   "source": [
    "### STRING 1"
   ]
  },
  {
   "cell_type": "code",
   "execution_count": 2,
   "id": "64b977b8",
   "metadata": {},
   "outputs": [
    {
     "name": "stdout",
     "output_type": "stream",
     "text": [
      "None\n"
     ]
    }
   ],
   "source": [
    "string1=\"The Acquisition process includes collecting data from social media  platforms, starting with keyword searching,querying, and scraping ,resulting in an acquired dataset\"\n",
    "match1=re.match(\"in\",string1)\n",
    "print(match1)"
   ]
  },
  {
   "cell_type": "code",
   "execution_count": 3,
   "id": "b645e090",
   "metadata": {},
   "outputs": [
    {
     "name": "stdout",
     "output_type": "stream",
     "text": [
      "<re.Match object; span=(0, 3), match='The'>\n"
     ]
    },
    {
     "data": {
      "text/plain": [
       "'The'"
      ]
     },
     "execution_count": 3,
     "metadata": {},
     "output_type": "execute_result"
    }
   ],
   "source": [
    "match2=re.match(\"The\",string1)\n",
    "print(match2)\n",
    "match2.group()"
   ]
  },
  {
   "cell_type": "code",
   "execution_count": 4,
   "id": "7014fd18",
   "metadata": {},
   "outputs": [
    {
     "name": "stdout",
     "output_type": "stream",
     "text": [
      "<re.Match object; span=(16, 23), match='process'>\n"
     ]
    }
   ],
   "source": [
    "search1=re.search(\"process\",string1)\n",
    "print(search1)"
   ]
  },
  {
   "cell_type": "code",
   "execution_count": 5,
   "id": "6121fcb3",
   "metadata": {},
   "outputs": [
    {
     "name": "stdout",
     "output_type": "stream",
     "text": [
      "None\n"
     ]
    }
   ],
   "source": [
    "search2=re.search(\"crown\",string1)\n",
    "print(search2)"
   ]
  },
  {
   "cell_type": "code",
   "execution_count": 6,
   "id": "ae1396c5",
   "metadata": {},
   "outputs": [
    {
     "name": "stdout",
     "output_type": "stream",
     "text": [
      "['in', 'in', 'in', 'in', 'in', 'in', 'in', 'in']\n"
     ]
    }
   ],
   "source": [
    "findall=re.findall(r\"in\",string1)\n",
    "print(findall)"
   ]
  },
  {
   "cell_type": "code",
   "execution_count": 7,
   "id": "51084cae",
   "metadata": {},
   "outputs": [
    {
     "name": "stdout",
     "output_type": "stream",
     "text": [
      "['in']\n"
     ]
    }
   ],
   "source": [
    "findall1=re.findall(r\"in\\b\",string1)\n",
    "print(findall1)"
   ]
  },
  {
   "cell_type": "code",
   "execution_count": 8,
   "id": "116e9b89",
   "metadata": {},
   "outputs": [
    {
     "name": "stdout",
     "output_type": "stream",
     "text": [
      "The Acquisition process RONcludes collectRONg data from social media  platforms, startRONg with keyword searching,querying, and scraping ,resulting in an acquired dataset\n"
     ]
    }
   ],
   "source": [
    "sub=re.sub(\"in\",\"RON\",string1,count=3)\n",
    "print(sub)"
   ]
  },
  {
   "cell_type": "markdown",
   "id": "96e32e84",
   "metadata": {},
   "source": [
    "### STRING 2"
   ]
  },
  {
   "cell_type": "code",
   "execution_count": 9,
   "id": "0d807c75",
   "metadata": {},
   "outputs": [
    {
     "name": "stdout",
     "output_type": "stream",
     "text": [
      "None\n"
     ]
    }
   ],
   "source": [
    "string2=r\"Annotation process involves refining and labeling, starting with data merging  selection, and annotation,ending in an data set\"\n",
    "match_1=re.match(\"and\",string2)\n",
    "print(match_1)"
   ]
  },
  {
   "cell_type": "code",
   "execution_count": 10,
   "id": "0dc05235",
   "metadata": {},
   "outputs": [
    {
     "name": "stdout",
     "output_type": "stream",
     "text": [
      "<re.Match object; span=(0, 10), match='Annotation'>\n"
     ]
    }
   ],
   "source": [
    "match_2=re.match(\"Annotation\",string2)\n",
    "print(match_2)"
   ]
  },
  {
   "cell_type": "code",
   "execution_count": 11,
   "id": "f83f2802",
   "metadata": {},
   "outputs": [
    {
     "name": "stdout",
     "output_type": "stream",
     "text": [
      "<re.Match object; span=(37, 40), match='and'>\n",
      "and\n"
     ]
    }
   ],
   "source": [
    "search_1=re.search(\"and\",string2)\n",
    "print(search_1)\n",
    "print(search_1.group())"
   ]
  },
  {
   "cell_type": "code",
   "execution_count": 12,
   "id": "c162a8b5",
   "metadata": {},
   "outputs": [
    {
     "name": "stdout",
     "output_type": "stream",
     "text": [
      "None\n"
     ]
    }
   ],
   "source": [
    "search_2=re.search(\"ad\",string2)\n",
    "print(search_2)"
   ]
  },
  {
   "cell_type": "code",
   "execution_count": 13,
   "id": "0fce9796",
   "metadata": {},
   "outputs": [
    {
     "name": "stdout",
     "output_type": "stream",
     "text": [
      "['and', 'and']\n"
     ]
    }
   ],
   "source": [
    "findall_1=re.findall(\"and\",string2)\n",
    "print(findall_1)"
   ]
  },
  {
   "cell_type": "code",
   "execution_count": 14,
   "id": "867db4de",
   "metadata": {},
   "outputs": [
    {
     "name": "stdout",
     "output_type": "stream",
     "text": [
      "Annotation process involves refining AND labeling, starting with data merging  selection, AND annotation,ending in an data set\n"
     ]
    }
   ],
   "source": [
    "sub_1=re.sub(\"and\",\"AND\",string2)\n",
    "print(sub_1)"
   ]
  }
 ],
 "metadata": {
  "kernelspec": {
   "display_name": "Python 3 (ipykernel)",
   "language": "python",
   "name": "python3"
  },
  "language_info": {
   "codemirror_mode": {
    "name": "ipython",
    "version": 3
   },
   "file_extension": ".py",
   "mimetype": "text/x-python",
   "name": "python",
   "nbconvert_exporter": "python",
   "pygments_lexer": "ipython3",
   "version": "3.11.4"
  }
 },
 "nbformat": 4,
 "nbformat_minor": 5
}
