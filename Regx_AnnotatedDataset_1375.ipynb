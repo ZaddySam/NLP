{
 "cells": [
  {
   "cell_type": "markdown",
   "id": "e8da2e87",
   "metadata": {},
   "source": [
    "# NATURAL LANGUAGE PROCESSING\n",
    "\n",
    "# REGULAR EXPRESSIONS"
   ]
  },
  {
   "cell_type": "markdown",
   "id": "997de269",
   "metadata": {},
   "source": [
    "## Problem Statement: Find out the number of positive, negative, and neutral comments in the third page of the pdf and perform sentiment analysis on those comments( sarcastic or non-sarcastic )"
   ]
  },
  {
   "cell_type": "code",
   "execution_count": 2,
   "id": "59baa30d",
   "metadata": {},
   "outputs": [],
   "source": [
    "import re"
   ]
  },
  {
   "cell_type": "code",
   "execution_count": 4,
   "id": "3bd5b0c9",
   "metadata": {},
   "outputs": [],
   "source": [
    "import PyPDF2"
   ]
  },
  {
   "cell_type": "code",
   "execution_count": 6,
   "id": "b15660b0",
   "metadata": {},
   "outputs": [],
   "source": [
    "mypdf=open(r\"C:\\Users\\Samhith\\OneDrive\\Documents\\studies\\Annotateddatasetforsentimentanalysis.pdf\",\"rb\")"
   ]
  },
  {
   "cell_type": "code",
   "execution_count": 8,
   "id": "e404dbe2",
   "metadata": {},
   "outputs": [],
   "source": [
    "pdf_document=PyPDF2.PdfReader(mypdf)"
   ]
  },
  {
   "cell_type": "code",
   "execution_count": 11,
   "id": "3f06a6f3",
   "metadata": {},
   "outputs": [
    {
     "data": {
      "text/plain": [
       "9"
      ]
     },
     "execution_count": 11,
     "metadata": {},
     "output_type": "execute_result"
    }
   ],
   "source": [
    "len(pdf_document.pages)"
   ]
  },
  {
   "cell_type": "code",
   "execution_count": 15,
   "id": "5c66acd1",
   "metadata": {},
   "outputs": [
    {
     "name": "stdout",
     "output_type": "stream",
     "text": [
      "M.S. Md Suhaimin,  M.H. Ahmad Hijazi and E.G. Moung / Data in Brief 55 (2024) 110663 3 \n",
      "• This dataset  uniquely  includes  annotated  bilingual,  code-mixed  content,  addressing  the com- \n",
      "plex challenge  of how sarcasm  impacts  sentiment  analysis.  The merging  data from two social \n",
      "media platforms—Twitter  and TikTok—broadens  the scope of target data, ensuring  more com- \n",
      "prehensive  and reliable  coverage  of public sentiments.  Additionally,  each data is labelled  for \n",
      "language,  aiding further  analysis  and clarity. \n",
      "2. Background  \n",
      "In the recent digital landscape,  social media has emerged  as a vital indicator  of public sen- \n",
      "timent,  especially  in the domain  of public security.  Analysing  social media content  facilitates  \n",
      "the real-time  assessment  of public emotions,  opinions,  and attitudes  towards  security-related  \n",
      "events and crises. Recognizing  its importance,  this paper aims to: (1) address  the scarcity  of \n",
      "domain-independent  data for public security  sentiment  analysis  [ 1 ], and (2) tackle the com- \n",
      "plexities  created  by sarcasm—which  can vague the intended  sentiment  [ 2-4 ]—and the complex-  \n",
      "ities involved  in processing  bilingual  code-mixed  content  that complicates  the interpretation  of \n",
      "sentiment  [ 5 , 6 ]. By presenting  a comprehensive  dataset,  this work is tailored  to overcome  the \n",
      "challenges  essential  in the sentiment  analysis  within the public security  domain,  particularly  \n",
      "in multilingual  contexts.  Its valuable  annotations  enable various  studies  and applications,  from \n",
      "academic  research  to practical  tools for public security  threat detection.  \n",
      "3. Data Description  \n",
      "Our dataset  includes  two main ﬁles: the dataset  ﬁle (csv) and a readme  ﬁle. The dataset  was \n",
      "acquired  from two social media platforms,  X (Twitter)  and TikTok.  The dataset  was constructed  \n",
      "using the acquisition  and annotation  process  detailed  in the next section.  After the construction  \n",
      "process,  the dataset  containing  10,0 0 0 rows of selected  attributes  were annotated  by three \n",
      "expert annotators  from different  ﬁelds. Two label categories  were produced.  First, the senti- \n",
      "ment of the comments/  tweets.  The multiclass  sentiment  is labelled  as ‘positive’,  ‘negative’  or \n",
      "‘neutral’.  Second,  the sarcasm  of the comments/  tweets.  The binary class of sarcasm  is labelled  \n",
      "as ‘sarcastic’  or ‘not sarcastic’.  A majority  vote determined  the ﬁnal label for inclusion  in the \n",
      "dataset.  An additional  labelling  task is provided  by an expert annotator  in literature  for the \n",
      "language  identiﬁcation  of each comment/tweet.  Table 1 presents  the attribute  details of the \n",
      "columns  in our dataset.  \n",
      "From the 10,0 0 0 comments/  tweets selected  for annotation,  sentiment  labels were dis- \n",
      "tributed  as follows:  3072 were labelled  ‘positive’,  4197 ‘negative’,  and 2569 ‘neutral’.  From \n",
      "these, 347 positive,  336 negative,  and 317 neutral  comments  were identiﬁed  in English;  2072 \n",
      "positive,  2873 negative,  and 1612 neutral  comments  in Malay; and 653 positive,  988 negative,  \n",
      "and 640 neutral  comments  were code-mixed.  In 162 cases, there were no majority  vote due to \n",
      "discrepancies  among  the annotators,  indicating  challenging  cases where annotator  agreement  \n",
      "could not be reached.  Regarding  sarcasm,  2355 comments/  tweets were identiﬁed  as ‘sarcastic’  \n",
      "and 7645 as ‘not sarcastic’.  Within  these, sarcastic  comments  consisted  of 180 in English,  \n",
      "1560 in Malay, and 615 in code-mixed  languages;  non-sarcastic  comments  included  829 in \n",
      "English,  5111 in Malay, and 1705 in code-mixed  languages.  Table 2 details the distribution  of \n",
      "the sentiment,  sarcasm,  and language  identiﬁcation  labels. Additionally,  Fig. 1 visually  presents  \n",
      "this detailed  distribution,  illustrating  the stacked  sentiment  and sarcasm  labels across their \n",
      "respective  language  identiﬁcation.  \n",
      "4. Experimental  Design,  Materials  and Methods  \n",
      "The dataset  construction  process  in this research  work is a two-fold  procedure  involving  \n",
      "data acquisition  and data annotation,  as illustrated  in Fig. 2 . The left side, (a) Data Acquisition,  \n"
     ]
    }
   ],
   "source": [
    "third_page=pdf_document.pages[2]\n",
    "print(third_page.extract_text())"
   ]
  },
  {
   "cell_type": "code",
   "execution_count": 17,
   "id": "e609a28e",
   "metadata": {},
   "outputs": [],
   "source": [
    "text=third_page.extract_text()"
   ]
  },
  {
   "cell_type": "code",
   "execution_count": 40,
   "id": "f007e58c",
   "metadata": {},
   "outputs": [
    {
     "name": "stdout",
     "output_type": "stream",
     "text": [
      "None\n"
     ]
    }
   ],
   "source": [
    "match=re.match(\"positive | negative\",text)\n",
    "print(match)"
   ]
  },
  {
   "cell_type": "code",
   "execution_count": 42,
   "id": "947490ac",
   "metadata": {},
   "outputs": [
    {
     "name": "stdout",
     "output_type": "stream",
     "text": [
      "<re.Match object; span=(0, 4), match='M.S.'>\n"
     ]
    }
   ],
   "source": [
    "match=re.match(\"M.S.\",text)\n",
    "print(match)"
   ]
  },
  {
   "cell_type": "code",
   "execution_count": 34,
   "id": "026dd15d",
   "metadata": {},
   "outputs": [],
   "source": [
    "positive_pattern = r'(\\d+) (?:were labelled  ‘positive’|positive|‘positive’)'\n",
    "negative_pattern = r'(\\d+) (?:were labelled  ‘negative’|negative|‘negative’)'\n",
    "neutral_pattern = r'(\\d+) (?:were labelled  ‘neutral’|neutral|‘neutral’)'\n",
    "sarcastic_pattern = r'(\\d+) comments/  tweets were identiﬁed  as ‘sarcastic’'\n",
    "nonsarcastic_pattern = r'(\\d+) as ‘not sarcastic’'"
   ]
  },
  {
   "cell_type": "code",
   "execution_count": 35,
   "id": "4840204b",
   "metadata": {},
   "outputs": [],
   "source": [
    "positive_comments = re.findall(positive_pattern, text)\n",
    "negative_comments = re.findall(negative_pattern, text)\n",
    "neutral_comments = re.findall(neutral_pattern, text)\n",
    "sarcastic_comments = re.findall(sarcastic_pattern, text)\n",
    "nonsarcastic_comments = re.findall(nonsarcastic_pattern, text)"
   ]
  },
  {
   "cell_type": "code",
   "execution_count": 36,
   "id": "e79cc277",
   "metadata": {},
   "outputs": [
    {
     "name": "stdout",
     "output_type": "stream",
     "text": [
      "Positive comments: ['3072', '347', '653']\n",
      "Negative comments: ['4197', '336', '2873', '988']\n",
      "Neutral comments: ['2569', '317', '1612', '640']\n",
      "Sarcastic comments: ['2355']\n",
      "Non-sarcastic comments: ['7645']\n"
     ]
    }
   ],
   "source": [
    "print(\"Positive comments:\", positive_comments)\n",
    "print(\"Negative comments:\", negative_comments)\n",
    "print(\"Neutral comments:\", neutral_comments)\n",
    "print(\"Sarcastic comments:\", sarcastic_comments)\n",
    "print(\"Non-sarcastic comments:\", nonsarcastic_comments)"
   ]
  },
  {
   "cell_type": "code",
   "execution_count": 37,
   "id": "d06a32b9",
   "metadata": {},
   "outputs": [],
   "source": [
    "positive_comments = re.search(positive_pattern, text)\n",
    "negative_comments = re.search(negative_pattern, text)\n",
    "neutral_comments = re.search(neutral_pattern, text)\n",
    "sarcastic_comments = re.search(sarcastic_pattern, text)\n",
    "nonsarcastic_comments = re.search(nonsarcastic_pattern, text)"
   ]
  },
  {
   "cell_type": "code",
   "execution_count": 38,
   "id": "8f6878e0",
   "metadata": {},
   "outputs": [
    {
     "name": "stdout",
     "output_type": "stream",
     "text": [
      "Positive comments: <re.Match object; span=(2832, 2862), match='3072 were labelled  ‘positive’'>\n",
      "Negative comments: <re.Match object; span=(2865, 2880), match='4197 ‘negative’'>\n",
      "Neutral comments: <re.Match object; span=(2887, 2901), match='2569 ‘neutral’'>\n",
      "Sarcastic comments: <re.Match object; span=(3348, 3401), match='2355 comments/  tweets were identiﬁed  as ‘sarcas>\n",
      "Non-sarcastic comments: <re.Match object; span=(3408, 3431), match='7645 as ‘not sarcastic’'>\n"
     ]
    }
   ],
   "source": [
    "print(\"Positive comments:\", positive_comments)\n",
    "print(\"Negative comments:\", negative_comments)\n",
    "print(\"Neutral comments:\", neutral_comments)\n",
    "print(\"Sarcastic comments:\", sarcastic_comments)\n",
    "print(\"Non-sarcastic comments:\", nonsarcastic_comments)"
   ]
  },
  {
   "cell_type": "code",
   "execution_count": 47,
   "id": "d6372811",
   "metadata": {},
   "outputs": [
    {
     "name": "stdout",
     "output_type": "stream",
     "text": [
      "M.S. Md Suhaimin,  M.H. Ahmad Hijazi and E.G. Moung / Data in Brief 55 (2024) 110663 3 \n",
      "• This dataset  uniquely  includes  annotated  bilingual,  code-mixed  content,  addressing  the com- \n",
      "plex challenge  of how sarcasm  impacts  sentiment  analysis.  The merging  data from two social \n",
      "media platforms—Twitter  and TikTok—broadens  the scope of target data, ensuring  more com- \n",
      "prehensive  and reliable  coverage  of public sentiments.  Additionally,  each data is labelled  for \n",
      "language,  aiding further  analysis  and clarity. \n",
      "2. Background  \n",
      "In the recent digital landscape,  social media has emerged  as a vital indicator  of public sen- \n",
      "timent,  especially  in the domain  of public security.  Analysing  social media content  facilitates  \n",
      "the real-time  assessment  of public emotions,  opinions,  and attitudes  towards  security-related  \n",
      "events and crises. Recognizing  its importance,  this paper aims to: (1) address  the scarcity  of \n",
      "domain-independent  data for public security  sentiment  analysis  [ 1 ], and (2) tackle the com- \n",
      "plexities  created  by sarcasm—which  can vague the intended  sentiment  [ 2-4 ]—and the complex-  \n",
      "ities involved  in processing  bilingual  code-mixed  content  that complicates  the interpretation  of \n",
      "sentiment  [ 5 , 6 ]. By presenting  a comprehensive  dataset,  this work is tailored  to overcome  the \n",
      "challenges  essential  in the sentiment  analysis  within the public security  domain,  particularly  \n",
      "in multilingual  contexts.  Its valuable  annotations  enable various  studies  and applications,  from \n",
      "academic  research  to practical  tools for public security  threat detection.  \n",
      "3. Data Description  \n",
      "Our dataset  includes  two main ﬁles: the dataset  ﬁle (csv) and a readme  ﬁle. The dataset  was \n",
      "acquired  from two social media platforms,  X (Twitter)  and TikTok.  The dataset  was constructed  \n",
      "using the acquisition  and annotation  process  detailed  in the next section.  After the construction  \n",
      "process,  the dataset  containing  10,0 0 0 rows of selected  attributes  were annotated  by three \n",
      "expert annotators  from different  ﬁelds. Two label categories  were produced.  First, the senti- \n",
      "ment of the comments/  tweets.  The multiclass  sentiment  is labelled  as ‘POSITIVE’,  ‘negative’  or \n",
      "‘neutral’.  Second,  the sarcasm  of the comments/  tweets.  The binary class of sarcasm  is labelled  \n",
      "as ‘sarcastic’  or ‘not sarcastic’.  A majority  vote determined  the ﬁnal label for inclusion  in the \n",
      "dataset.  An additional  labelling  task is provided  by an expert annotator  in literature  for the \n",
      "language  identiﬁcation  of each comment/tweet.  Table 1 presents  the attribute  details of the \n",
      "columns  in our dataset.  \n",
      "From the 10,0 0 0 comments/  tweets selected  for annotation,  sentiment  labels were dis- \n",
      "tributed  as follows:  3072 were labelled  ‘POSITIVE’,  4197 ‘negative’,  and 2569 ‘neutral’.  From \n",
      "these, 347 POSITIVE,  336 negative,  and 317 neutral  comments  were identiﬁed  in English;  2072 \n",
      "POSITIVE,  2873 negative,  and 1612 neutral  comments  in Malay; and 653 POSITIVE,  988 negative,  \n",
      "and 640 neutral  comments  were code-mixed.  In 162 cases, there were no majority  vote due to \n",
      "discrepancies  among  the annotators,  indicating  challenging  cases where annotator  agreement  \n",
      "could not be reached.  Regarding  sarcasm,  2355 comments/  tweets were identiﬁed  as ‘sarcastic’  \n",
      "and 7645 as ‘not sarcastic’.  Within  these, sarcastic  comments  consisted  of 180 in English,  \n",
      "1560 in Malay, and 615 in code-mixed  languages;  non-sarcastic  comments  included  829 in \n",
      "English,  5111 in Malay, and 1705 in code-mixed  languages.  Table 2 details the distribution  of \n",
      "the sentiment,  sarcasm,  and language  identiﬁcation  labels. Additionally,  Fig. 1 visually  presents  \n",
      "this detailed  distribution,  illustrating  the stacked  sentiment  and sarcasm  labels across their \n",
      "respective  language  identiﬁcation.  \n",
      "4. Experimental  Design,  Materials  and Methods  \n",
      "The dataset  construction  process  in this research  work is a two-fold  procedure  involving  \n",
      "data acquisition  and data annotation,  as illustrated  in Fig. 2 . The left side, (a) Data Acquisition,  \n"
     ]
    }
   ],
   "source": [
    "sub=re.sub(r\"positive\",\"POSITIVE\",text,count=5)\n",
    "print(sub)"
   ]
  },
  {
   "cell_type": "markdown",
   "id": "e9f71b30",
   "metadata": {},
   "source": [
    "## M.SRI SAMHITH\n",
    "## HU21CSEN0101375"
   ]
  }
 ],
 "metadata": {
  "kernelspec": {
   "display_name": "Python 3 (ipykernel)",
   "language": "python",
   "name": "python3"
  },
  "language_info": {
   "codemirror_mode": {
    "name": "ipython",
    "version": 3
   },
   "file_extension": ".py",
   "mimetype": "text/x-python",
   "name": "python",
   "nbconvert_exporter": "python",
   "pygments_lexer": "ipython3",
   "version": "3.11.4"
  }
 },
 "nbformat": 4,
 "nbformat_minor": 5
}
